{
  "cells": [
    {
      "cell_type": "markdown",
      "metadata": {
        "id": "J2MQMqbBOe-h"
      },
      "source": [
        "# 08-DARS. RO'YXATLAR BILAN ISHLASH\n",
        "\n",
        "Ro'yxatlarning ustida turli amallar bajarishni o'rganamiz"
      ]
    },
    {
      "cell_type": "markdown",
      "metadata": {
        "id": "mMoPwj8hOe-l"
      },
      "source": [
        "![](https://gblobscdn.gitbook.com/assets%2F-MGbkqs1tROquIT6oqUs%2F-Mc-5yGQPZTBaGoehQdL%2F-Mc-7xpq4Puu3KEjmT0R%2FSD_YT_TG_logo_mini.png?alt=media&token=929fe67b-ec12-4f63-b33e-e9c5e3d8ad09)"
      ]
    },
    {
      "cell_type": "markdown",
      "metadata": {
        "id": "ui-mNBjdOe-l"
      },
      "source": [
        "# RO'YXATNI TARTIBLASH"
      ]
    },
    {
      "cell_type": "markdown",
      "metadata": {
        "id": "1Butf_dPOe-m"
      },
      "source": [
        "Aksar holatlarda ro'yxat ichidagi elementlarni alifbo ketma-ketligida tartiblash talab qilinishi mumkin. Buning uchun list uchun maxsus **`.sort()`** metodidan foydalanamiz."
      ]
    },
    {
      "cell_type": "code",
      "execution_count": null,
      "metadata": {
        "id": "aom9XbJeOe-m",
        "outputId": "5d300f84-5cfd-4477-88fa-a210c7dd4b38"
      },
      "outputs": [
        {
          "name": "stdout",
          "output_type": "stream",
          "text": [
            "['audi', 'bmw', 'general motors', 'mercedes benz', 'tesla', 'volvo']\n"
          ]
        }
      ],
      "source": [
        "cars = ['bmw','mercedes benz', 'volvo', 'general motors', 'tesla', 'audi']\n",
        "cars.sort()\n",
        "print(cars)"
      ]
    },
    {
      "cell_type": "markdown",
      "metadata": {
        "id": "5tTS6taIOe-n"
      },
      "source": [
        "Kurib turibsiz, yuqoridagi ro'yxatimiz alifbo bo'yicha tartiblandi."
      ]
    },
    {
      "cell_type": "markdown",
      "metadata": {
        "id": "m_yTWKquOe-o"
      },
      "source": [
        "> **Diqqat!** Tartiblashda katta harflar kichik harflardan avval kelishini hisobga oling. Agar matndagi so'zlarning bosh harfi katta-kichik aralash yozilgan bo'lsa, ularni bir ko'rinishga keltirib olish maqsadga muvofiq bo'ladi."
      ]
    },
    {
      "cell_type": "code",
      "execution_count": null,
      "metadata": {
        "id": "u2qj-cPWOe-o",
        "outputId": "9b9a2944-7d6d-4021-8cf2-8c454d3c661e"
      },
      "outputs": [
        {
          "name": "stdout",
          "output_type": "stream",
          "text": [
            "['Bmw', 'audi', 'gm', 'mercedes benz', 'tesla', 'volvo']\n"
          ]
        }
      ],
      "source": [
        "cars = ['Bmw','mercedes benz', 'volvo', 'gm', 'tesla', 'audi']\n",
        "cars.sort()\n",
        "print(cars)"
      ]
    },
    {
      "cell_type": "markdown",
      "metadata": {
        "id": "9sNfKKJ0Oe-o"
      },
      "source": [
        "Yuqoridagi misolda `'Bmw'` elementi katta harf bilan boshlangani uchun ro'yxatning boshidan joy oldi.\n",
        "\n",
        "Ro'yxatni teskari tartibda saqlash uchun `.sort()` metodi ichida `reverse=True` argumentini ham kiritamiz."
      ]
    },
    {
      "cell_type": "code",
      "execution_count": null,
      "metadata": {
        "id": "M3oWzDHMOe-p",
        "outputId": "30a8f23c-39ec-4e9e-ebd8-9d87dda7992a"
      },
      "outputs": [
        {
          "name": "stdout",
          "output_type": "stream",
          "text": [
            "['volvo', 'tesla', 'mercedes benz', 'general motors', 'bmw', 'audi']\n"
          ]
        }
      ],
      "source": [
        "cars = ['bmw','mercedes benz', 'volvo', 'general motors', 'tesla', 'audi']\n",
        "cars.sort(reverse=True)\n",
        "print(cars)"
      ]
    },
    {
      "cell_type": "markdown",
      "metadata": {
        "id": "etDHJE2vOe-p"
      },
      "source": [
        "`.sort()` metodi ro'yxatni tartiblaydi. Ba'zida asl ro'yxat ichidagi elementlarning ketma-ketligini buzmagan holda ro'yxatni tartiblash talab qilinishi mumkin. Buning uchun **`sorted()`** funktsiyasidan foydalanamiz:"
      ]
    },
    {
      "cell_type": "code",
      "execution_count": null,
      "metadata": {
        "id": "5iFcxACMOe-p",
        "outputId": "2b14bdb7-98f5-4b21-da1e-d628206052c0"
      },
      "outputs": [
        {
          "name": "stdout",
          "output_type": "stream",
          "text": [
            "sorted() qaytargan ro'yxat: ['Avazbek', 'Farruh', 'Hamid', 'Odil', 'Shamsiddin', 'Temur']\n",
            "Asl ro'yxat o'zgarmas qoldi: ['Odil', 'Hamid', 'Temur', 'Avazbek', 'Farruh', 'Shamsiddin']\n"
          ]
        }
      ],
      "source": [
        "mehmonlar = ['Odil', 'Hamid', 'Temur', 'Avazbek', 'Farruh', 'Shamsiddin']\n",
        "print(\"sorted() qaytargan ro'yxat:\", sorted(mehmonlar))\n",
        "print(\"Asl ro'yxat o'zgarmas qoldi:\", mehmonlar)"
      ]
    },
    {
      "cell_type": "markdown",
      "metadata": {
        "id": "Ra6A_5H9Oe-q"
      },
      "source": [
        "`sorted()` funktsiyasi yordamida teskari tartiblash uchun ham `reverse=True` argumentini beramiz:"
      ]
    },
    {
      "cell_type": "code",
      "execution_count": null,
      "metadata": {
        "id": "L9RlPNciOe-q",
        "outputId": "ce66ad6b-a27f-44c4-cd33-115f19b47c01"
      },
      "outputs": [
        {
          "name": "stdout",
          "output_type": "stream",
          "text": [
            "['Temur', 'Shamsiddin', 'Odil', 'Hamid', 'Farruh', 'Avazbek']\n"
          ]
        }
      ],
      "source": [
        "print(sorted(mehmonlar, reverse=True))"
      ]
    },
    {
      "cell_type": "markdown",
      "metadata": {
        "id": "0zEopgxgOe-q"
      },
      "source": [
        "Yuqoridagi ikki usul bilan sonli ro'yxatlarni ham tartiblashimiz mumkin:"
      ]
    },
    {
      "cell_type": "code",
      "execution_count": null,
      "metadata": {
        "id": "HzL_GU77Oe-r",
        "outputId": "f67c8622-a044-4e28-8878-0bc374aad572"
      },
      "outputs": [
        {
          "name": "stdout",
          "output_type": "stream",
          "text": [
            "[11, 12, 34, 34, 65, 76, 98]\n",
            "[98, 76, 65, 34, 34, 12, 11]\n"
          ]
        }
      ],
      "source": [
        "ages = [12, 98, 34, 65, 34, 76, 11]\n",
        "ages.sort()\n",
        "print(ages)\n",
        "print(sorted(ages, reverse=True))"
      ]
    },
    {
      "cell_type": "markdown",
      "metadata": {
        "id": "xZejpzJsOe-r"
      },
      "source": [
        "# RO'YXATNI AYLANTIRISH"
      ]
    },
    {
      "cell_type": "markdown",
      "metadata": {
        "id": "8BSYD8XtOe-r"
      },
      "source": [
        "Ba'zida ro'yxatni aylantirish (boshini oxiriga, oxirini boshiga) talab qilinishi mumkin. Buning uchun **`.reverse()`** metodidan foydalanamiz."
      ]
    },
    {
      "cell_type": "code",
      "execution_count": null,
      "metadata": {
        "id": "GGt25lN3Oe-r",
        "outputId": "d5e69e55-cbca-41e1-e888-c394baa2dc4a"
      },
      "outputs": [
        {
          "name": "stdout",
          "output_type": "stream",
          "text": [
            "['lemon', 'watermelon', 'apple', 'banana', 'pear']\n"
          ]
        }
      ],
      "source": [
        "fruits = ['pear','banana','apple','watermelon','lemon']\n",
        "fruits.reverse()\n",
        "print(fruits)"
      ]
    },
    {
      "cell_type": "markdown",
      "metadata": {
        "id": "urbzCGj6Oe-s"
      },
      "source": [
        "Natija va asl ro'yxatni solishtiring."
      ]
    },
    {
      "cell_type": "markdown",
      "metadata": {
        "id": "H9SogHGtOe-s"
      },
      "source": [
        "# RO'YXATNING UZUNLIGINI BILISH"
      ]
    },
    {
      "cell_type": "markdown",
      "metadata": {
        "id": "F6NQhUJMOe-s"
      },
      "source": [
        "Ro'yxatning uzunligi, ya'ni uning ichidagi elementlar sonini aniqlash uchun **`len()`** funktsiyasidan foydalanamiz:"
      ]
    },
    {
      "cell_type": "code",
      "execution_count": null,
      "metadata": {
        "id": "wR_dIXeKOe-s",
        "outputId": "57272446-c3b2-4e18-e986-452ddb23eecc"
      },
      "outputs": [
        {
          "name": "stdout",
          "output_type": "stream",
          "text": [
            "Elementlar soni: 5\n"
          ]
        }
      ],
      "source": [
        "fruits = ['pear','banana','apple','watermelon','lemon']\n",
        "print(\"Elementlar soni:\",len(fruits)) # len(fruits) ro'yxat uzunligini qaytaradi"
      ]
    },
    {
      "cell_type": "markdown",
      "metadata": {
        "id": "He41s4fuOe-s"
      },
      "source": [
        "# **`range()`** FUNKTSIYASI\n"
      ]
    },
    {
      "cell_type": "markdown",
      "metadata": {
        "id": "8bnXPs6hOe-s"
      },
      "source": [
        "Bu funktsiya yordamida biz ma'lum oraliqdagi sonlar ketma-ketligini yaratishimiz mumkin. **`list()`** funktsiyasi yordamida esa bu oraliqni ro'yxat shaklida saqlab olamiz:"
      ]
    },
    {
      "cell_type": "code",
      "execution_count": null,
      "metadata": {
        "id": "DuW5r5hOOe-t",
        "outputId": "b3c4a753-681f-4e62-9842-1a9bdc0f8679"
      },
      "outputs": [
        {
          "name": "stdout",
          "output_type": "stream",
          "text": [
            "[0, 1, 2, 3, 4, 5, 6, 7, 8, 9]\n"
          ]
        }
      ],
      "source": [
        "sonlar = list(range(0,10)) #\n",
        "print(sonlar)"
      ]
    },
    {
      "cell_type": "markdown",
      "metadata": {
        "id": "HJD6O1AyOe-t"
      },
      "source": [
        "Yuqoridagi misolda `range(0,10)` funktsiyasi 0 dan 9 gacha sonlar ketma-ketligini shakllantirdi, `list(range(0,9))` esa bu ketma-ketlikni ro'yxatga aylantirdi."
      ]
    },
    {
      "cell_type": "markdown",
      "metadata": {
        "id": "YCvcr5m8Oe-t"
      },
      "source": [
        "> **Diqqat!** E'tibor qiling `range()` funktsiyasi ikkinchi indeksdan bitta avval to'xtaydi."
      ]
    },
    {
      "cell_type": "markdown",
      "metadata": {
        "id": "a-haooRIOe-t"
      },
      "source": [
        "`range()` yordamida qadamni ham berishimiz mumkin:"
      ]
    },
    {
      "cell_type": "code",
      "execution_count": null,
      "metadata": {
        "id": "0FmRSRdQOe-t",
        "outputId": "9c23d58a-07a4-468a-bd76-c0c6b176f153"
      },
      "outputs": [
        {
          "name": "stdout",
          "output_type": "stream",
          "text": [
            "Juft sonlar:  [0, 2, 4, 6, 8, 10, 12, 14, 16, 18]\n",
            "Toq sonlar:  [1, 3, 5, 7, 9, 11, 13, 15, 17, 19]\n"
          ]
        }
      ],
      "source": [
        "juft_sonlar = list(range(0,20,2)) # 0 dan 20 gacha 2 qadam bilan\n",
        "toq_sonlar = list(range(1,20,2))  # 1 dan 20 gacha 2 qadam bilan\n",
        "print(\"Juft sonlar: \", juft_sonlar)\n",
        "print(\"Toq sonlar: \", toq_sonlar)"
      ]
    },
    {
      "cell_type": "markdown",
      "metadata": {
        "id": "OBa10WUIOe-u"
      },
      "source": [
        "> Agar sonlar ketma-ketligi 0 dan boshlansa, `range()` funktsiyasida yakuniy indeksni ko'rsatish kifoya. Misol uchun `range(0,10)` emas `range(10)` deb yozsak ham bo'laveradi."
      ]
    },
    {
      "cell_type": "markdown",
      "metadata": {
        "id": "CR4qGptfOe-u"
      },
      "source": [
        "# SONLI RO'YXAT USTIDA SODDA AMALLAR\n"
      ]
    },
    {
      "cell_type": "markdown",
      "metadata": {
        "id": "Pbm3dUa7Oe-u"
      },
      "source": [
        "Pythonda ro'yxatlar ustida ba'zi sodda amallarni ham bajarish mumkin. Misol uchun ro'yxatdagi eng kichik sonni topish uchun `min()` funktsiyasidan, eng katta sonni topish uchun esa `max()` funktsiyasidan, sonlarning yig'indisini topish uchun esa `sum()` funktsyasidan foydalansak bo'ladi:"
      ]
    },
    {
      "cell_type": "code",
      "execution_count": null,
      "metadata": {
        "id": "VVfIZKcvOe-u",
        "outputId": "fc7e9447-a267-4ec4-cf1e-9c07a12fd134"
      },
      "outputs": [
        {
          "name": "stdout",
          "output_type": "stream",
          "text": [
            "Eng arzon narh  5600 . Eng qimmati  32874 . Jami:  116164\n"
          ]
        }
      ],
      "source": [
        "narhlar = [12000, 22500, 23456, 9800, 5600, 9934, 32874]\n",
        "arzon = min(narhlar)\n",
        "qimmat = max(narhlar)\n",
        "jami = sum(narhlar)\n",
        "print(\"Eng arzon narh \", arzon, \". Eng qimmati \", qimmat, \". Jami: \", jami)"
      ]
    },
    {
      "cell_type": "markdown",
      "metadata": {
        "id": "4o8S-M-LOe-v"
      },
      "source": [
        "# RO'YXATNI KESISH\n"
      ]
    },
    {
      "cell_type": "markdown",
      "metadata": {
        "id": "HMLHPMXbOe-v"
      },
      "source": [
        "Ba'zida ro'yxatning ma'lum bir bo'lagini ajratib olish talab qilinishi mumkin, deylik biz quyidagi cars degan ro'yxatdan birinchi 3 ta elementni ajratib olmoqchimiz, buning uchun biz boshlang'ich va oxirgi indekslarni beramiz:"
      ]
    },
    {
      "cell_type": "code",
      "execution_count": null,
      "metadata": {
        "id": "khxAwFgNOe-v",
        "outputId": "b1ad161e-2f12-4fcc-fbad-8cf725a309b0"
      },
      "outputs": [
        {
          "name": "stdout",
          "output_type": "stream",
          "text": [
            "['bmw', 'mercedes benz', 'volvo']\n"
          ]
        }
      ],
      "source": [
        "cars = ['bmw','mercedes benz', 'volvo', 'general motors', 'tesla', 'audi']\n",
        "my_cars = cars[0:3] # 0-indeskdan boshlab 3 ta element ajratib olamiz\n",
        "print(my_cars)"
      ]
    },
    {
      "cell_type": "markdown",
      "metadata": {
        "id": "fI86kjVOOe-v"
      },
      "source": [
        "> **Diqqat!** Python 2-indeksdan bitta avval to'xtaydi. Yuqoridagi misolda ham 0,1,2-elementlar ajratib olindi."
      ]
    },
    {
      "cell_type": "markdown",
      "metadata": {
        "id": "iA9IEzH8Oe-v"
      },
      "source": [
        "Bu usul bilan ro'yxatning istalgan joyidan bo'lishimiz mumkin:\n"
      ]
    },
    {
      "cell_type": "code",
      "execution_count": null,
      "metadata": {
        "id": "u8GExsHUOe-5",
        "outputId": "dd3e4e48-c315-4c77-d80c-a424e010c0d6"
      },
      "outputs": [
        {
          "name": "stdout",
          "output_type": "stream",
          "text": [
            "['volvo', 'general motors', 'tesla']\n"
          ]
        }
      ],
      "source": [
        "print(cars[2:5]) # 2-3-4-elementlarni ajratib olamiz (5 kirmaydi)"
      ]
    },
    {
      "cell_type": "markdown",
      "metadata": {
        "id": "Q9JnpZRGOe-5"
      },
      "source": [
        "Agar boshlang'ich indeksni bermasangiz, Python avtomat ravishda 0 indeksdan boshlab kesadi. Agar 2-indeksni kiritmasangiz, ro'yxat oxirigacha kesadi:"
      ]
    },
    {
      "cell_type": "code",
      "execution_count": null,
      "metadata": {
        "id": "IBmcaAAVOe-6",
        "outputId": "ca8a321d-9d0c-4caf-c0fa-480295ab3a09"
      },
      "outputs": [
        {
          "name": "stdout",
          "output_type": "stream",
          "text": [
            "['bmw', 'mercedes benz', 'volvo', 'general motors']\n",
            "['volvo', 'general motors', 'tesla', 'audi']\n"
          ]
        }
      ],
      "source": [
        "print(cars[:4]) # Ro'yxat boshidan 4-gacha kesadi (0,1,2,3)\n",
        "print(cars[2:]) # 2-elementdan boshlab ro'yxat oxirigacha kesib oladi"
      ]
    },
    {
      "cell_type": "markdown",
      "metadata": {
        "id": "vkYm83Z3Oe-6"
      },
      "source": [
        "# RO'YXATDAN NUSXA OLISH"
      ]
    },
    {
      "cell_type": "markdown",
      "metadata": {
        "id": "OBNz-PmgOe-6"
      },
      "source": [
        "Dastur davomida biror ro'yxatdan nusxa olish talab qilinishi mumkin. Buning uchun biz tenglik(`=`) belgisidan foydalansak bo'ladimi? Quyidagi misolga e'tibor bering:"
      ]
    },
    {
      "cell_type": "code",
      "execution_count": null,
      "metadata": {
        "id": "ww73Fvv9Oe-6",
        "outputId": "a1f9f90e-d666-4ece-a771-f6c6be0b87ec"
      },
      "outputs": [
        {
          "name": "stdout",
          "output_type": "stream",
          "text": [
            "Bu sonlar ro'yxati: [1, 2, 3, 4, 5, 6, 7]\n",
            "Bu sonlar2 ro'yxati: [1, 2, 3, 4, 5, 6, 7]\n"
          ]
        }
      ],
      "source": [
        "sonlar = [1, 2, 3, 4, 5] # donlar degan ro'yxat yaratamiz\n",
        "sonlar2 = sonlar # sonlar2 degan ro'yxatni sonlar ga tenglaymiz\n",
        "sonlar2.append(6) # sonlar2 ga 6 sonini qo'shamiz\n",
        "sonlar2.append(7) # sonlar2 ga 7 sonini qo'shamiz\n",
        "print(\"Bu sonlar ro'yxati:\", sonlar)\n",
        "print(\"Bu sonlar2 ro'yxati:\", sonlar2)"
      ]
    },
    {
      "cell_type": "markdown",
      "metadata": {
        "id": "MS58O9YmOe-7"
      },
      "source": [
        "Natija biz kutgandek chiqdimi? Yo'q. Biz 6 va 7 sonlarini `sonlar2` degan ro'yxatga qo'shgan edik, lekin bu ikki son `sonlar` degan asl ro'yxatga ham qo'shilib qoldi.\n",
        "\n",
        "Demak yuqorida biz `sonlar2=sonlar` deb yozgan komandamiz yangi ro'yxat yaratish o'rniga, ikkala o'zgaruvchini ham bitta ro'yxatga bog'lab (yo'naltirib) qo'ydi. Biz `sonlar` yoki `sonlar2` ustida bajargan amallarimiz aslida bitta ro'yxat ustida bajarilyapti.\n",
        "\n",
        "![](https://gblobscdn.gitbook.com/assets%2F-MGbkqs1tROquIT6oqUs%2F-MMJGzmHuPgjikKMOl0R%2F-MMJv_JeF1G7uIfp5RRc%2Fimage.png?alt=media&token=6f5d1db7-57d6-4ef3-983d-5fe640b44435)\n",
        "\n",
        "Unda, qanday qilib ro'yxatdan nusxa olamiz? Buning uchun yuoqirdagi ka'bi ro'yxatni kesish usulidan foydalanamiz. Faqatgina, kvadrat qavs ichida ikkala indeksni ham ko'rsatmasdan, bo'sh qoldiramiz:"
      ]
    },
    {
      "cell_type": "code",
      "execution_count": null,
      "metadata": {
        "id": "8vT_4tAMOe-7",
        "outputId": "95cdf51d-f903-4cc9-db7f-7dbc1d9c4a06"
      },
      "outputs": [
        {
          "name": "stdout",
          "output_type": "stream",
          "text": [
            "Bu sonlar ro'yxati: [1, 2, 3, 4, 5]\n",
            "Bu sonlar2 ro'yxati: [1, 2, 3, 4, 5, 6, 7]\n"
          ]
        }
      ],
      "source": [
        "sonlar = [1, 2, 3, 4, 5] # donlar degan ro'yxat yaratamiz\n",
        "sonlar2 = sonlar[:] # [:] ro'yxatni to'liq ko'chirib oladi\n",
        "sonlar2.append(6) # sonlar2 ga 6 sonini qo'shamiz\n",
        "sonlar2.append(7) # sonlar2 ga 7 sonini qo'shamiz\n",
        "print(\"Bu sonlar ro'yxati:\", sonlar)\n",
        "print(\"Bu sonlar2 ro'yxati:\", sonlar2)"
      ]
    },
    {
      "cell_type": "markdown",
      "metadata": {
        "id": "t308VcJGOe-7"
      },
      "source": [
        "# TUPLES - O'ZGARMAS RO'YXAT"
      ]
    },
    {
      "cell_type": "markdown",
      "metadata": {
        "id": "1q6him3dOe-7"
      },
      "source": [
        "Dastur yaratish davomida o'zgarmas ro'yxat tuzish talab qilinishi mumkin. Pythonda bunday ro'yxatlar **tuples** deb yuritiladi. Tuple ichidagi qiymatlarni bir marta, dastur boshida beriladi va so'ngra o'zgartirib bo'lmaydi. List dan farqli ravishda, Tuple e'lon qilishda kvadrat qavslar `[]` o'rniga oddiy qavslar `()` ishlatiladi:\n"
      ]
    },
    {
      "cell_type": "code",
      "execution_count": null,
      "metadata": {
        "id": "vjuXgneGOe-8",
        "outputId": "3a332e73-dee8-4127-e840-a412c7770ec8"
      },
      "outputs": [
        {
          "name": "stdout",
          "output_type": "stream",
          "text": [
            "(20, 30, 55.2)\n"
          ]
        }
      ],
      "source": [
        "tomonlar = (20, 30, 55.2)\n",
        "print(tomonlar)"
      ]
    },
    {
      "cell_type": "markdown",
      "metadata": {
        "id": "2LXaXg-IOe-8"
      },
      "source": [
        "Tuple ichidagi elementlarga huddi ro'yxat elementlariga murojat qilingani kabi murojat qilinaveradi:"
      ]
    },
    {
      "cell_type": "code",
      "execution_count": null,
      "metadata": {
        "id": "Gh7hNsPdOe-8",
        "outputId": "ec9c4edc-5039-4b96-b74f-b978bf373735"
      },
      "outputs": [
        {
          "name": "stdout",
          "output_type": "stream",
          "text": [
            "bus\n",
            "lizard\n",
            "('bear', 'dino', 'snake')\n"
          ]
        }
      ],
      "source": [
        "toys = ('bus','car','bear','dino','snake','lizard')\n",
        "print(toys[0])\n",
        "print(toys[-1])\n",
        "print(toys[2:5])"
      ]
    },
    {
      "cell_type": "markdown",
      "metadata": {
        "id": "9uO4qVciOe-8"
      },
      "source": [
        "Keling Tuple ichidagi biror elementning qiymatini o'zgartirib ko'ramiz:"
      ]
    },
    {
      "cell_type": "code",
      "execution_count": null,
      "metadata": {
        "id": "GjXtIY8sOe-9",
        "outputId": "635732cb-3f8e-4125-e244-7a11e4bdb85b"
      },
      "outputs": [
        {
          "ename": "TypeError",
          "evalue": "'tuple' object does not support item assignment",
          "output_type": "error",
          "traceback": [
            "\u001b[0;31m---------------------------------------------------------------------------\u001b[0m",
            "\u001b[0;31mTypeError\u001b[0m                                 Traceback (most recent call last)",
            "\u001b[0;32m<ipython-input-22-0e8694a5bec6>\u001b[0m in \u001b[0;36m<module>\u001b[0;34m\u001b[0m\n\u001b[1;32m      1\u001b[0m \u001b[0mtoys\u001b[0m \u001b[0;34m=\u001b[0m \u001b[0;34m(\u001b[0m\u001b[0;34m'bus'\u001b[0m\u001b[0;34m,\u001b[0m\u001b[0;34m'car'\u001b[0m\u001b[0;34m,\u001b[0m\u001b[0;34m'bear'\u001b[0m\u001b[0;34m,\u001b[0m\u001b[0;34m'dino'\u001b[0m\u001b[0;34m,\u001b[0m\u001b[0;34m'snake'\u001b[0m\u001b[0;34m,\u001b[0m\u001b[0;34m'lizard'\u001b[0m\u001b[0;34m)\u001b[0m\u001b[0;34m\u001b[0m\u001b[0;34m\u001b[0m\u001b[0m\n\u001b[0;32m----> 2\u001b[0;31m \u001b[0mtoys\u001b[0m\u001b[0;34m[\u001b[0m\u001b[0;36m3\u001b[0m\u001b[0;34m]\u001b[0m \u001b[0;34m=\u001b[0m \u001b[0;34m'dragon'\u001b[0m\u001b[0;34m\u001b[0m\u001b[0;34m\u001b[0m\u001b[0m\n\u001b[0m",
            "\u001b[0;31mTypeError\u001b[0m: 'tuple' object does not support item assignment"
          ]
        }
      ],
      "source": [
        "toys = ('bus','car','bear','dino','snake','lizard')\n",
        "toys[3] = 'dragon'"
      ]
    },
    {
      "cell_type": "markdown",
      "metadata": {
        "id": "wbbGMlSiOe-9"
      },
      "source": [
        "Demak yuqorida ko'rib turganingiz kabi, bu operatsiya xatolikka olib keldi. Shu kabi ro'yxatdan biror elementni o'chirish yoki yangi element qo'shish ham mumkin emas.\n",
        "\n",
        "Agar Tuple ga o'zgartirish talab qilinsa, yagona yo'li o'zgarmas ro'yxatni `list()` funktsiyasi yordamida List (oddiy ro'yxat) ko'rinishiga keltirib olish, o'zgarishlarni bajarsih va qaytarib `tuple()` funktsiyasi yordamida o'zgarmas ro'yxatga o'tkazish mumkin:"
      ]
    },
    {
      "cell_type": "code",
      "execution_count": null,
      "metadata": {
        "id": "CrR3dyLGOe-9",
        "outputId": "a73a2259-c5a6-43e7-cc21-49be1ec6badc"
      },
      "outputs": [
        {
          "name": "stdout",
          "output_type": "stream",
          "text": [
            "('car', 'mcqueen', 'dino', 'snake', 'lizard', 'dragon')\n"
          ]
        }
      ],
      "source": [
        "toys = ('bus','car','bear','dino','snake','lizard') # o'zgarmas ro'yxat\n",
        "toys = list(toys) # o'zgarmas ro'yxatni oddiy ro'yxatga (List) aylantiramiz\n",
        "# Ro'yxatga o'zgartirishlar kiritamiz\n",
        "toys.append('dragon')\n",
        "toys.remove('bus')\n",
        "toys[1] = 'mcqueen'\n",
        "toys = tuple(toys) # Ro'yxatni qaytadan o'zgarmas ro'yxatga (Tuple) aylantiramiz\n",
        "print(toys)"
      ]
    },
    {
      "cell_type": "markdown",
      "metadata": {
        "id": "wSyhM71NOe--"
      },
      "source": [
        "# AMALIYOT"
      ]
    },
    {
      "cell_type": "markdown",
      "metadata": {
        "id": "z70c13tIOe--"
      },
      "source": [
        "- O'zingizga ma'lum davlatlarning ro'yxatini tuzing va ro'yxatni konsolga chiqaring\n",
        "- Ro'yxatning uzunligini konsolga chiqaring\n",
        "- `sorted()` funktsiyasi yordamida ro'yxatni tartiblangan holda konsolga chiqaring\n",
        "- `sorted()` yordamida ro'yxatni teskari tartibda konsolga chiqaring\n",
        "- Asl ro'yxatni qaytadan konsolga chiqaring\n",
        "- `reverse()` metodi yordamida ro'yxatni ortidan boshlab chiqaring\n",
        "- `sort()` metodi yordamida ro'yxatni avval alifbo bo'yicha, keyin esa alifboga teskari tartibda konsolga chiqaring.\n",
        "- 120 dan 1200 gacha bo'lgan juft sonlar ro'yxatini tuzing\n",
        "- Ro'yxatdagi sonlar yig'indisini hisoblang va konsolga chiqaring\n",
        "- Ro'yxatdagi eng katta va eng kichik son o'rtasidagi ayirmani hisoblang va konsolga chiqaring\n",
        "- Ro'yxatdagi elementlar sonini hisoblang\n",
        "- Ro'yxatning boshidan, o'rtasidan va oxiridan 20 ta qiymatni konsolga chiqaring\n",
        "- `taomlar` degan ro'yxat yarating va ichiga istalgan 5ta taomni kiriting\n",
        "- `nonushta` degan yangi ro'yxatga `taomlar`dan nusxa oling\n",
        "- Yangi ro'yxatda faqat nonushtaga yeyiladigan taomlarni qoldiring, va qo'shimcha 2 ta taom qo'shing\n",
        "- Ikkala ro'yxatni ham (`taomlar` va `nonushta`) konsolga chiqaring\n",
        "- Yuqoridagi nonushta ro'yxatini o'zgarmas ro'yxatga aylantiring va `nonushta[0] = \"qaymoq va non\"` deb qiymat berib ko'ring."
      ]
    },
    {
      "cell_type": "markdown",
      "metadata": {
        "id": "vm102ZjDOe--"
      },
      "source": [
        "# JAVOBLAR"
      ]
    },
    {
      "cell_type": "code",
      "execution_count": 3,
      "metadata": {
        "id": "RC5qBVZnOe--",
        "outputId": "9fdcfc24-3774-44ff-8ec7-2273bb481dd8",
        "colab": {
          "base_uri": "https://localhost:8080/"
        }
      },
      "outputs": [
        {
          "output_type": "stream",
          "name": "stdout",
          "text": [
            "[\"O'zbekiston\", \"Qozog'iston\", 'Rossiya', 'Malayziya', 'Singapur', 'AQSh']\n"
          ]
        }
      ],
      "source": [
        "#O'zingizga ma'lum davlatlarning ro'yxatini tuzing va ro'yxatni konsolga chiqaring\n",
        "davlatlar = [\"O'zbekiston\",\"Qozog'iston\", \"Rossiya\", \"Malayziya\", \"Singapur\", \"AQSh\"]\n",
        "print(davlatlar)"
      ]
    },
    {
      "cell_type": "code",
      "execution_count": null,
      "metadata": {
        "id": "dcx3RbXUOe--",
        "outputId": "cd15fc03-3cab-4303-ff0c-7128b66d796f"
      },
      "outputs": [
        {
          "name": "stdout",
          "output_type": "stream",
          "text": [
            "6\n"
          ]
        }
      ],
      "source": [
        "#Ro'yxatning uzunligini konsolga chiqaring\n",
        "print(len(davlatlar))"
      ]
    },
    {
      "cell_type": "code",
      "execution_count": null,
      "metadata": {
        "id": "sWPvk-QzOe-_",
        "outputId": "dfdb9555-e0f7-4848-c892-b5d9050d3387"
      },
      "outputs": [
        {
          "name": "stdout",
          "output_type": "stream",
          "text": [
            "['AQSh', 'Malayziya', \"O'zbekiston\", \"Qozog'iston\", 'Rossiya', 'Singapur']\n"
          ]
        }
      ],
      "source": [
        "#sorted() funktsiyasi yordamida ro'yxatni tartiblangan holda konsolga chiqaring\n",
        "print(sorted(davlatlar))"
      ]
    },
    {
      "cell_type": "code",
      "execution_count": null,
      "metadata": {
        "id": "hKo4ifz0Oe-_",
        "outputId": "379c4f24-17f3-4a70-fa25-9debe2c1503a"
      },
      "outputs": [
        {
          "name": "stdout",
          "output_type": "stream",
          "text": [
            "['Singapur', 'Rossiya', \"Qozog'iston\", \"O'zbekiston\", 'Malayziya', 'AQSh']\n"
          ]
        }
      ],
      "source": [
        "#sorted() yordamida ro'yxatni teskari tartibda konsolga chiqaring\n",
        "print(sorted(davlatlar, reverse=True))"
      ]
    },
    {
      "cell_type": "code",
      "execution_count": null,
      "metadata": {
        "id": "ETysThICOe-_",
        "outputId": "29839402-7fa1-4525-e594-c66ea5ed06f3"
      },
      "outputs": [
        {
          "name": "stdout",
          "output_type": "stream",
          "text": [
            "[\"O'zbekiston\", \"Qozog'iston\", 'Rossiya', 'Malayziya', 'Singapur', 'AQSh']\n"
          ]
        }
      ],
      "source": [
        "#Asl ro'yxatni qaytadan konsolga chiqaring\n",
        "print(davlatlar)"
      ]
    },
    {
      "cell_type": "code",
      "execution_count": null,
      "metadata": {
        "id": "Uevvur3eOe-_",
        "outputId": "3d6780a5-d3d9-4699-d32a-5fcee2af85e5"
      },
      "outputs": [
        {
          "name": "stdout",
          "output_type": "stream",
          "text": [
            "['AQSh', 'Singapur', 'Malayziya', 'Rossiya', \"Qozog'iston\", \"O'zbekiston\"]\n"
          ]
        }
      ],
      "source": [
        "#reverse() metodi yordamida ro'yxatni ortidan boshlab chiqaring\n",
        "davlatlar.reverse()\n",
        "print(davlatlar)"
      ]
    },
    {
      "cell_type": "code",
      "execution_count": null,
      "metadata": {
        "id": "5xVBqtuLOe-_",
        "outputId": "7da535d7-659d-4bca-add5-72cc21bd6a02"
      },
      "outputs": [
        {
          "name": "stdout",
          "output_type": "stream",
          "text": [
            "['AQSh', 'Malayziya', \"O'zbekiston\", \"Qozog'iston\", 'Rossiya', 'Singapur']\n",
            "['Singapur', 'Rossiya', \"Qozog'iston\", \"O'zbekiston\", 'Malayziya', 'AQSh']\n"
          ]
        }
      ],
      "source": [
        "#sort() metodi yordamida ro'yxatni avval alifbo bo'yicha, keyin esa alifboga teskari tartibda konsolga chiqaring.\n",
        "davlatlar.sort()\n",
        "print(davlatlar)\n",
        "davlatlar.sort(reverse=True)\n",
        "print(davlatlar)"
      ]
    },
    {
      "cell_type": "code",
      "execution_count": null,
      "metadata": {
        "id": "ZbumZb6XOe_A"
      },
      "outputs": [],
      "source": [
        "#120 dan 1200 gacha bo'lgan juft sonlar ro'yxatini tuzing\n",
        "sonlar = list(range(120,1200))"
      ]
    },
    {
      "cell_type": "code",
      "execution_count": null,
      "metadata": {
        "id": "0a5Oo9VYOe_A",
        "outputId": "90b1f46e-7f50-491d-aa63-5e01fc0f131e"
      },
      "outputs": [
        {
          "name": "stdout",
          "output_type": "stream",
          "text": [
            "712260\n"
          ]
        }
      ],
      "source": [
        "#Ro'yxatdagi sonlar yig'indisini hisoblang va konsolga chiqaring\n",
        "print(sum(sonlar))"
      ]
    },
    {
      "cell_type": "code",
      "execution_count": null,
      "metadata": {
        "id": "AFmVXea4Oe_A",
        "outputId": "585b49f8-7cf0-494b-a52b-5de5c96816ab"
      },
      "outputs": [
        {
          "name": "stdout",
          "output_type": "stream",
          "text": [
            "1079\n"
          ]
        }
      ],
      "source": [
        "#Ro'yxatdagi eng katta va eng kichik son o'rtasidagi ayirmani hisoblang va konsolga chiqaring\n",
        "print(max(sonlar)-min(sonlar))"
      ]
    },
    {
      "cell_type": "code",
      "execution_count": null,
      "metadata": {
        "id": "0yVc0dkgOe_A",
        "outputId": "41f83407-62c7-4123-dbb8-5b5f26f503db"
      },
      "outputs": [
        {
          "name": "stdout",
          "output_type": "stream",
          "text": [
            "1080\n"
          ]
        }
      ],
      "source": [
        "#Ro'yxatdagi elementlar sonini hisoblang\n",
        "print(len(sonlar))"
      ]
    },
    {
      "cell_type": "code",
      "execution_count": null,
      "metadata": {
        "id": "rkzkUD35Oe_A",
        "outputId": "a099ea1c-a889-4f47-cc76-7c4fdba96b99"
      },
      "outputs": [
        {
          "name": "stdout",
          "output_type": "stream",
          "text": [
            "[120, 121, 122, 123, 124, 125, 126, 127, 128, 129, 130, 131, 132, 133, 134, 135, 136, 137, 138, 139]\n",
            "[1180, 1181, 1182, 1183, 1184, 1185, 1186, 1187, 1188, 1189, 1190, 1191, 1192, 1193, 1194, 1195, 1196, 1197, 1198, 1199]\n",
            "[650, 651, 652, 653, 654, 655, 656, 657, 658, 659, 660, 661, 662, 663, 664, 665, 666, 667, 668, 669]\n"
          ]
        }
      ],
      "source": [
        "#Ro'yxatning boshidan, o'rtasidan va oxiridan 20 ta qiymatni konsolga chiqaring\n",
        "print(sonlar[:20])\n",
        "print(sonlar[-20:])\n",
        "print(sonlar[530:550])"
      ]
    },
    {
      "cell_type": "code",
      "execution_count": null,
      "metadata": {
        "id": "LMQlzHf7Oe_A"
      },
      "outputs": [],
      "source": [
        "#taomlar degan ro'yxat yarating va ichiga istalgan 5ta taomni kiriting\n",
        "taomlar = ['osh','somsa','norin','shashlik','qozonkabob']"
      ]
    },
    {
      "cell_type": "code",
      "execution_count": null,
      "metadata": {
        "id": "1RlsAeq5Oe_B"
      },
      "outputs": [],
      "source": [
        "#nonushta degan yangi ro'yxatga taomlardan nusxa oling\n",
        "nonushta = taomlar[:]"
      ]
    },
    {
      "cell_type": "code",
      "execution_count": null,
      "metadata": {
        "id": "HChFZ3uNOe_B"
      },
      "outputs": [],
      "source": [
        "#Yangi ro'yxatda faqat nonushtaga yeyiladigan taomlarni qoldiring, va qo'shimcha 2 ta taom qo'shing\n",
        "nonushta.remove('norin')\n",
        "nonushta.remove('shashlik')\n",
        "nonushta.remove('qozonkabob')\n",
        "nonushta.append('non va qaymoq')\n",
        "nonushta.append('issiq non')"
      ]
    },
    {
      "cell_type": "code",
      "execution_count": null,
      "metadata": {
        "id": "_8exz5lFOe_B",
        "outputId": "3e0141d6-854d-454b-8866-62d9160ad6a3"
      },
      "outputs": [
        {
          "name": "stdout",
          "output_type": "stream",
          "text": [
            "['osh', 'somsa', 'norin', 'shashlik', 'qozonkabob']\n",
            "['osh', 'somsa', 'non va qaymoq', 'issiq non']\n"
          ]
        }
      ],
      "source": [
        "#Ikkala ro'yxatni ham (taomlar va nonushta) konsolga chiqaring\n",
        "print(taomlar)\n",
        "print(nonushta)"
      ]
    },
    {
      "cell_type": "code",
      "execution_count": null,
      "metadata": {
        "id": "aPqdnZK4Oe_B",
        "outputId": "d5971f82-5fff-470b-a80f-c352bb4e1999"
      },
      "outputs": [
        {
          "ename": "TypeError",
          "evalue": "'tuple' object does not support item assignment",
          "output_type": "error",
          "traceback": [
            "\u001b[0;31m---------------------------------------------------------------------------\u001b[0m",
            "\u001b[0;31mTypeError\u001b[0m                                 Traceback (most recent call last)",
            "\u001b[0;32m<ipython-input-41-8bc21ce4e322>\u001b[0m in \u001b[0;36m<module>\u001b[0;34m\u001b[0m\n\u001b[1;32m      1\u001b[0m \u001b[0;31m#Yuqoridagi nonushta ro'yxatini o'zgarmas ro'yxatga aylantiring va nonushta[0] = \"qaymoq va non\" deb qiymat berib ko'ring.\u001b[0m\u001b[0;34m\u001b[0m\u001b[0;34m\u001b[0m\u001b[0;34m\u001b[0m\u001b[0m\n\u001b[1;32m      2\u001b[0m \u001b[0mnonushta\u001b[0m \u001b[0;34m=\u001b[0m \u001b[0mtuple\u001b[0m\u001b[0;34m(\u001b[0m\u001b[0mnonushta\u001b[0m\u001b[0;34m)\u001b[0m\u001b[0;34m\u001b[0m\u001b[0;34m\u001b[0m\u001b[0m\n\u001b[0;32m----> 3\u001b[0;31m \u001b[0mnonushta\u001b[0m\u001b[0;34m[\u001b[0m\u001b[0;36m0\u001b[0m\u001b[0;34m]\u001b[0m \u001b[0;34m=\u001b[0m \u001b[0;34m\"qaymoq va non\"\u001b[0m\u001b[0;34m\u001b[0m\u001b[0;34m\u001b[0m\u001b[0m\n\u001b[0m",
            "\u001b[0;31mTypeError\u001b[0m: 'tuple' object does not support item assignment"
          ]
        }
      ],
      "source": [
        "#Yuqoridagi nonushta ro'yxatini o'zgarmas ro'yxatga aylantiring va nonushta[0] = \"qaymoq va non\" deb qiymat berib ko'ring.\n",
        "nonushta = tuple(nonushta)\n",
        "nonushta[0] = \"qaymoq va non\""
      ]
    }
  ],
  "metadata": {
    "language_info": {
      "name": "python"
    },
    "colab": {
      "provenance": []
    },
    "kernelspec": {
      "name": "python3",
      "display_name": "Python 3"
    }
  },
  "nbformat": 4,
  "nbformat_minor": 0
}